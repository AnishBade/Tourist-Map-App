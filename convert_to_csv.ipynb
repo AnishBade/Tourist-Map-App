{
 "cells": [
  {
   "cell_type": "code",
   "execution_count": 1,
   "metadata": {},
   "outputs": [
    {
     "name": "stdout",
     "output_type": "stream",
     "text": [
      "Data saved to static_data_v1.csv.\n"
     ]
    }
   ],
   "source": [
    "import csv\n",
    "import json\n",
    "\n",
    "# Read the JSON file\n",
    "with open('export.geojson') as file:\n",
    "    data = json.load(file)\n",
    "\n",
    "# Extract the desired fields and store them in a list\n",
    "rows = []\n",
    "for feature in data['features']:\n",
    "    properties = feature['properties']\n",
    "    name = properties.get('name', 'NULL')\n",
    "    tourism = properties.get('tourism', 'NULL')\n",
    "    email = properties.get('email', 'NULL')\n",
    "    phone = properties.get('phone', 'NULL')\n",
    "    website = properties.get('website', 'NULL')\n",
    "    coordinates = feature['geometry']['coordinates']\n",
    "\n",
    "    rows.append([name, tourism, email, phone, website, coordinates])\n",
    "\n",
    "# Define the CSV file path\n",
    "csv_file = 'static_data_v1.csv'\n",
    "\n",
    "# Write the data to the CSV file\n",
    "with open(csv_file, 'w', newline='') as file:\n",
    "    writer = csv.writer(file)\n",
    "    writer.writerow(['name', 'tourism', 'email', 'phone', 'website', 'coordinates'])\n",
    "    writer.writerows(rows)\n",
    "\n",
    "print(f\"Data saved to {csv_file}.\")\n"
   ]
  },
  {
   "cell_type": "code",
   "execution_count": null,
   "metadata": {},
   "outputs": [],
   "source": []
  },
  {
   "cell_type": "markdown",
   "metadata": {},
   "source": [
    "# WE still need some working on the coordinates data so that we can directly store them in the postgres maps_location table\n"
   ]
  },
  {
   "cell_type": "markdown",
   "metadata": {},
   "source": [
    "import csv\n",
    "\n",
    "# Define the input and output file paths\n",
    "input_file = 'static_data_v1.csv'\n",
    "output_file = 'updated_static_data_v1.csv'\n",
    "\n",
    "# Open the input and output files\n",
    "with open(input_file, 'r') as file_in, open(output_file, 'w', newline='') as file_out:\n",
    "    # Create CSV reader and writer objects\n",
    "    reader = csv.DictReader(file_in)\n",
    "    writer = csv.DictWriter(file_out, fieldnames=reader.fieldnames)\n",
    "\n",
    "    # Write the header row\n",
    "    writer.writeheader()\n",
    "\n",
    "    # Process each row\n",
    "    for row in reader:\n",
    "        # Extract the coordinates value\n",
    "        coordinates = row['Coordinates']\n",
    "\n",
    "        # Remove square brackets and split into longitude and latitude\n",
    "        coordinates = coordinates.strip('[]')\n",
    "        longitude, latitude = map(float, coordinates.split(','))\n",
    "\n",
    "        # Format the coordinates as WKT (Well-Known Text)\n",
    "        wkt = f'POINT({longitude} {latitude})'\n",
    "\n",
    "        # Update the coordinates value\n",
    "        row['Coordinates'] = wkt\n",
    "\n",
    "        # Write the updated row to the output file\n",
    "        writer.writerow(row)\n",
    "\n",
    "print(f\"Updated data saved to {output_file}.\")\n"
   ]
  },
  {
   "cell_type": "code",
   "execution_count": 2,
   "metadata": {},
   "outputs": [
    {
     "name": "stdout",
     "output_type": "stream",
     "text": [
      "Updated data saved to updated_static_data_v1.csv.\n"
     ]
    }
   ],
   "source": [
    "\n",
    "\n",
    "# Define the input and output file paths\n",
    "input_file = 'static_data_v1.csv'\n",
    "output_file = 'updated_static_data_v1.csv'\n",
    "\n",
    "# Open the input and output files\n",
    "with open(input_file, 'r') as file_in, open(output_file, 'w', newline='') as file_out:\n",
    "    # Create CSV reader and writer objects\n",
    "    reader = csv.DictReader(file_in)\n",
    "    writer = csv.DictWriter(file_out, fieldnames=reader.fieldnames)\n",
    "\n",
    "    # Write the header row\n",
    "    writer.writeheader()\n",
    "\n",
    "    # Process each row\n",
    "    for row in reader:\n",
    "        # Extract the coordinates value\n",
    "        coordinates = row['coordinates']\n",
    "\n",
    "        # Remove square brackets and split into longitude and latitude\n",
    "        coordinates = coordinates.strip('[]')\n",
    "        longitude, latitude = map(float, coordinates.split(','))\n",
    "\n",
    "        # Format the coordinates as WKT (Well-Known Text)\n",
    "        wkt = f'POINT({longitude} {latitude})'\n",
    "\n",
    "        # Update the coordinates value\n",
    "        row['coordinates'] = wkt\n",
    "\n",
    "        # Write the updated row to the output file\n",
    "        writer.writerow(row)\n",
    "\n",
    "print(f\"Updated data saved to {output_file}.\")\n"
   ]
  },
  {
   "cell_type": "code",
   "execution_count": null,
   "metadata": {},
   "outputs": [],
   "source": []
  }
 ],
 "metadata": {
  "kernelspec": {
   "display_name": "kll",
   "language": "python",
   "name": "python3"
  },
  "language_info": {
   "codemirror_mode": {
    "name": "ipython",
    "version": 3
   },
   "file_extension": ".py",
   "mimetype": "text/x-python",
   "name": "python",
   "nbconvert_exporter": "python",
   "pygments_lexer": "ipython3",
   "version": "3.10.6"
  },
  "orig_nbformat": 4
 },
 "nbformat": 4,
 "nbformat_minor": 2
}
