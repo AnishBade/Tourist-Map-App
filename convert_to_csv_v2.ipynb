{
 "cells": [
  {
   "cell_type": "code",
   "execution_count": 6,
   "metadata": {},
   "outputs": [],
   "source": [
    "import csv\n",
    "import json\n",
    "\n"
   ]
  },
  {
   "cell_type": "code",
   "execution_count": 18,
   "metadata": {},
   "outputs": [],
   "source": [
    "# Open the JSON file\n",
    "with open('kathmandu_valley_tourism_attraction.json') as file:\n",
    "    data = json.load(file)\n",
    "\n",
    "\n",
    "\n"
   ]
  },
  {
   "cell_type": "code",
   "execution_count": 19,
   "metadata": {},
   "outputs": [],
   "source": [
    "# Extract the desired fields for POINT data\n",
    "points = []\n",
    "for item in data:\n",
    "    if item['geometry']['type'] == 'Point':\n",
    "        name = item['properties'].get('name','NULL')\n",
    "        tourism = item['properties'].get('tourism','NULL')\n",
    "        email = item['properties'].get('email','NULL')\n",
    "        phone = item['properties'].get('phone','NULL')\n",
    "        website = item['properties'].get('website','NULL')\n",
    "        coordinates = item['geometry']['coordinates']\n",
    "\n",
    "        point = [name, tourism, email, phone, website, f'POINT({coordinates[0]} {coordinates[1]})']\n",
    "        points.append(point)\n"
   ]
  },
  {
   "cell_type": "code",
   "execution_count": 20,
   "metadata": {},
   "outputs": [],
   "source": [
    "# Write the extracted data to a CSV file\n",
    "with open('kathmandu_valley_tourism_attraction_filtered.csv', 'w', newline='') as file:\n",
    "    writer = csv.writer(file)\n",
    "    writer.writerow(['name', 'tourism', 'email', 'phone', 'website', 'coordinates'])\n",
    "    writer.writerows(points)"
   ]
  },
  {
   "cell_type": "code",
   "execution_count": null,
   "metadata": {},
   "outputs": [],
   "source": []
  }
 ],
 "metadata": {
  "kernelspec": {
   "display_name": "kll",
   "language": "python",
   "name": "python3"
  },
  "language_info": {
   "codemirror_mode": {
    "name": "ipython",
    "version": 3
   },
   "file_extension": ".py",
   "mimetype": "text/x-python",
   "name": "python",
   "nbconvert_exporter": "python",
   "pygments_lexer": "ipython3",
   "version": "3.10.6"
  },
  "orig_nbformat": 4
 },
 "nbformat": 4,
 "nbformat_minor": 2
}
